{
 "cells": [
  {
   "cell_type": "markdown",
   "id": "b51414b2-e763-4168-856a-0fbd5f20e450",
   "metadata": {},
   "source": [
    "\n",
    "Q1. Types of Clustering Algorithms and Their Differences:\n",
    "K-means: Divides data into non-overlapping subsets or clusters without any predefined structure.\n",
    "Hierarchical Clustering: Creates a tree of clusters where each node is a cluster that consists of the clusters of its children.\n",
    "DBSCAN: Clusters data based on density, forming high-density regions separated by low-density regions.\n",
    "Mean Shift: Finds the modes of a density function of data points to locate clusters.\n",
    "Gaussian Mixture Models (GMM): Assumes data points are generated from a mixture of finite Gaussian distributions.\n",
    "Each clustering algorithm has a distinct approach and makes different underlying assumptions about the structure of the data."
   ]
  },
  {
   "cell_type": "markdown",
   "id": "e783b873-a6f6-4078-b712-31012e7530fa",
   "metadata": {},
   "source": [
    "Q2. K-means Clustering and How it Works:\n",
    "K-means is an iterative algorithm that partitions a dataset into K clusters where each data point belongs to the cluster with the nearest mean. It minimizes the sum of squared distances between data points and their respective cluster centroid.\n",
    "\n"
   ]
  },
  {
   "cell_type": "markdown",
   "id": "526a04f7-4318-4cb3-8dc7-b1edcc1b4b86",
   "metadata": {},
   "source": [
    "Q3. Advantages and Limitations of K-means Clustering:\n",
    "Advantages:\n",
    "\n",
    "Simple and easy to implement.\n",
    "Scales well to large datasets.\n",
    "Works well with globular, well-defined clusters.\n",
    "Limitations:\n",
    "\n",
    "Sensitivity to initial cluster centroids.\n",
    "Works poorly with non-globular clusters or clusters of different sizes and densities"
   ]
  },
  {
   "cell_type": "markdown",
   "id": "f96cbb39-f3d7-4b8a-80e0-25f39265b33a",
   "metadata": {},
   "source": [
    "Q4. Determining the Optimal Number of Clusters:\n",
    "Elbow Method: Plotting the within-cluster sum of squares (WCSS) against the number of clusters and identifying the \"elbow\" point where the rate of decrease sharply changes.\n",
    "Silhouette Score: Evaluates the quality of clusters based on the average distance between clusters and the average distance within clusters."
   ]
  },
  {
   "cell_type": "code",
   "execution_count": null,
   "id": "fc8fa5b7-fe12-42d5-ad65-0dfb89ff7bbf",
   "metadata": {},
   "outputs": [],
   "source": [
    "Q5. Applications of K-means Clustering:\n",
    "Customer Segmentation: Grouping customers based on purchasing behavior.\n",
    "Image Segmentation: Identifying objects or regions in images.\n",
    "Anomaly Detection: Identifying outliers in a dataset"
   ]
  }
 ],
 "metadata": {
  "kernelspec": {
   "display_name": "Python 3 (ipykernel)",
   "language": "python",
   "name": "python3"
  },
  "language_info": {
   "codemirror_mode": {
    "name": "ipython",
    "version": 3
   },
   "file_extension": ".py",
   "mimetype": "text/x-python",
   "name": "python",
   "nbconvert_exporter": "python",
   "pygments_lexer": "ipython3",
   "version": "3.10.8"
  }
 },
 "nbformat": 4,
 "nbformat_minor": 5
}
